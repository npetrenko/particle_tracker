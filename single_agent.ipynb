{
 "cells": [
  {
   "cell_type": "code",
   "execution_count": 1,
   "metadata": {},
   "outputs": [],
   "source": [
    "import numpy as np\n",
    "import random\n",
    "from matplotlib import pyplot as plt\n",
    "import matplotlib.patches as patches\n",
    "from agent import Agent, Env\n",
    "from pfilter import ParticleFilter"
   ]
  },
  {
   "cell_type": "code",
   "execution_count": 2,
   "metadata": {},
   "outputs": [],
   "source": [
    "np.random.seed(10)\n",
    "random.seed(10)"
   ]
  },
  {
   "cell_type": "code",
   "execution_count": 3,
   "metadata": {},
   "outputs": [],
   "source": [
    "im_x = 50\n",
    "im_y = 50\n",
    "\n",
    "seqlen = 200"
   ]
  },
  {
   "cell_type": "code",
   "execution_count": 4,
   "metadata": {},
   "outputs": [],
   "source": [
    "env = Env(*[Agent(im_x, im_y) for _ in range(1)])"
   ]
  },
  {
   "cell_type": "code",
   "execution_count": 5,
   "metadata": {},
   "outputs": [],
   "source": [
    "aa = env.step()[0]"
   ]
  },
  {
   "cell_type": "code",
   "execution_count": 6,
   "metadata": {},
   "outputs": [
    {
     "data": {
      "text/plain": [
       "array([ 28.61702713,  30.4745518 ,  36.37981087,  34.75076316])"
      ]
     },
     "execution_count": 6,
     "metadata": {},
     "output_type": "execute_result"
    }
   ],
   "source": [
    "aa"
   ]
  },
  {
   "cell_type": "code",
   "execution_count": 7,
   "metadata": {},
   "outputs": [],
   "source": [
    "def evol_model(particles):\n",
    "    particles = particles.copy()\n",
    "    \n",
    "    xy, wh = particles[:,:2], particles[:,2:4]\n",
    "    vel = particles[:,4:]\n",
    "    \n",
    "    vel += np.random.normal(size=vel.shape)/4\n",
    "    vel = np.clip(vel, -1, 1)\n",
    "    \n",
    "    xy += vel\n",
    "    \n",
    "    wh += np.random.normal(size=wh.shape)/20\n",
    "    wh = np.clip(wh, 1, 30)\n",
    "    \n",
    "    xy = np.clip(xy, 0, np.array([im_x, im_y], dtype='float64') - wh)\n",
    "    \n",
    "    new_particles = np.concatenate([xy, wh, vel], axis=-1)\n",
    "    return new_particles\n",
    "\n",
    "def observe_model(particles, observe, beta=None):\n",
    "    xy, wh = particles[:,:2], particles[:,2:4]\n",
    "    \n",
    "    xyxy = np.concatenate([xy, xy + wh], axis=-1)\n",
    "    \n",
    "    whs = np.concatenate([wh,wh], axis=-1)\n",
    "    \n",
    "    ds = []\n",
    "    for obs in observe:\n",
    "        logd = - (xyxy - obs)**2/(2*(whs/12)**2) - np.log(np.sqrt(2*np.pi)*whs/12)\n",
    "        logd = np.clip(logd, -10000, 10000)\n",
    "        logd = np.sum(logd, axis=-1)\n",
    "        ds.append(logd)\n",
    "    \n",
    "    \n",
    "    ds = np.array(ds)\n",
    "\n",
    "    if beta is not None:\n",
    "        beta = np.array(beta)\n",
    "        tmp = logsumexp(ds, b=beta[:,np.newaxis], axis=0)\n",
    "        if np.max(beta) < 1e-3:\n",
    "            return 0\n",
    "        else:\n",
    "            return tmp\n",
    "    else:\n",
    "        return ds[0]"
   ]
  },
  {
   "cell_type": "code",
   "execution_count": 8,
   "metadata": {},
   "outputs": [],
   "source": [
    "filt = ParticleFilter(20000, 4 + 2, evol_model, observe_model, resample_criterion=0.7)"
   ]
  },
  {
   "cell_type": "code",
   "execution_count": 9,
   "metadata": {},
   "outputs": [],
   "source": [
    "aa = env.step(see_all=True)[0]\n",
    "filt.particles[:, :2] = aa[:2] + np.random.normal(size=filt.particles[:, :2].shape)*2\n",
    "filt.particles[:, 2:4] = np.clip(1 + np.random.normal(size=filt.particles[:, 2:4].shape)*7, 0.5, 100)"
   ]
  },
  {
   "cell_type": "code",
   "execution_count": 10,
   "metadata": {},
   "outputs": [],
   "source": [
    "observe = []\n",
    "true = []\n",
    "for _ in range(seqlen):\n",
    "    observe.append(env.step())\n",
    "    true.append(env.agents[0].pos)\n",
    "    \n",
    "observe = np.array(observe)\n",
    "true = np.array(true)"
   ]
  },
  {
   "cell_type": "code",
   "execution_count": 11,
   "metadata": {},
   "outputs": [],
   "source": [
    "agent = env.agents[0]"
   ]
  },
  {
   "cell_type": "code",
   "execution_count": 12,
   "metadata": {},
   "outputs": [
    {
     "data": {
      "text/plain": [
       "(8, 4)"
      ]
     },
     "execution_count": 12,
     "metadata": {},
     "output_type": "execute_result"
    }
   ],
   "source": [
    "agent.w, agent.h"
   ]
  },
  {
   "cell_type": "code",
   "execution_count": 13,
   "metadata": {},
   "outputs": [
    {
     "name": "stdout",
     "output_type": "stream",
     "text": [
      "0.000603937867018\n",
      "0.101322992262\n",
      "0.0598909718822\n",
      "0.198050995641\n",
      "0.08680960311\n",
      "0.297930391118\n",
      "0.457111249336\n",
      "0.128698232213\n",
      "0.179024989458\n",
      "0.408093955519\n",
      "0.155660893651\n",
      "0.255127045045\n",
      "0.133821324125\n",
      "0.12984405777\n",
      "0.12229766866\n",
      "0.44951808117\n",
      "0.475827682047\n",
      "0.956399105374\n",
      "0.00115086897068\n",
      "0.0113193478594\n",
      "0.555325928257\n",
      "0.87583096849\n",
      "0.414429878487\n",
      "0.015822865094\n",
      "0.00247186449333\n",
      "0.0456850658807\n",
      "0.232450539267\n",
      "0.297331829946\n",
      "0.277963740522\n",
      "0.356554193371\n",
      "0.30898480844\n",
      "0.319128637264\n",
      "0.236014907942\n",
      "0.07585110789\n",
      "0.158895128118\n",
      "0.0905195047665\n",
      "0.190181786711\n",
      "0.0301776552451\n",
      "0.0990298866605\n",
      "0.0492206033578\n",
      "0.0204032824973\n",
      "0.0170557613114\n",
      "0.00489915645414\n",
      "0.00934659204746\n",
      "0.00515409386179\n",
      "0.00652800201127\n",
      "0.00305373434918\n",
      "0.000157668913176\n",
      "0.0118202318774\n",
      "0.00482885252639\n",
      "0.00393125236432\n",
      "0.047996893137\n",
      "0.0371241044873\n",
      "0.0263728678806\n",
      "0.0354179291724\n",
      "0.0571705463835\n",
      "0.0433792696929\n",
      "0.0192153738219\n",
      "0.0249028195539\n",
      "0.0889525533271\n",
      "0.133818372956\n",
      "0.199534054284\n",
      "0.324400714323\n",
      "0.440165805514\n",
      "0.284480992251\n",
      "0.0565369874769\n",
      "0.0279260670489\n",
      "0.17868090846\n",
      "0.431436306731\n",
      "0.513972173259\n",
      "0.339803573742\n",
      "0.726610320023\n",
      "0.000661718277347\n",
      "0.0162367286212\n",
      "0.13373279416\n",
      "0.732276076631\n",
      "0.305131574163\n",
      "0.557909493202\n",
      "0.37056574608\n",
      "0.496888904368\n",
      "0.423802857246\n",
      "0.282727702176\n",
      "0.535363574995\n",
      "0.288267885466\n",
      "0.369356624244\n",
      "0.380506613443\n",
      "0.463427602286\n",
      "0.436965992945\n",
      "0.338493525479\n",
      "0.0971797419732\n",
      "0.118499645402\n",
      "0.457894276334\n",
      "0.261073414203\n",
      "0.340828442715\n",
      "0.378899201011\n",
      "0.431010915647\n",
      "0.216358895727\n",
      "0.390839138386\n",
      "0.430485181373\n",
      "0.46563711232\n",
      "0.20696971142\n",
      "0.422158799721\n",
      "0.299378323674\n",
      "0.308259166088\n",
      "0.344234432019\n",
      "0.374021755249\n",
      "0.449440688283\n",
      "0.514632677124\n",
      "0.359847162049\n",
      "0.592600428156\n",
      "0.542546436863\n",
      "0.254390915529\n",
      "0.261645528081\n",
      "0.574300494042\n",
      "0.424407638555\n",
      "0.299233075304\n",
      "0.400670221578\n",
      "0.486538832998\n",
      "0.311019647408\n",
      "0.172626475861\n",
      "0.412868636329\n",
      "0.0512316868725\n",
      "0.240512680408\n",
      "0.344528352156\n",
      "0.35471804086\n",
      "0.437186031786\n",
      "0.331694865989\n",
      "0.428085376722\n",
      "0.0527169669749\n",
      "0.12621492101\n",
      "0.608865504716\n",
      "0.497601568095\n",
      "0.289554416177\n",
      "0.421492820462\n",
      "0.374516772669\n",
      "0.211094346926\n",
      "0.430652608188\n",
      "0.258147932997\n",
      "0.548925603836\n",
      "0.260056276489\n",
      "0.415455223748\n",
      "0.439099369494\n",
      "0.646463476034\n",
      "0.37495480078\n",
      "0.158522403945\n",
      "0.369506527798\n",
      "0.284119127626\n",
      "0.565924288125\n",
      "0.328918513803\n",
      "0.231178793277\n",
      "0.0786223838727\n",
      "0.295818479318\n",
      "0.373689328483\n",
      "0.316778142425\n",
      "0.332321277961\n",
      "0.230304302425\n",
      "0.288467496226\n",
      "0.315475868723\n",
      "0.0437421594018\n",
      "0.000687034713902\n",
      "0.208814467208\n",
      "0.399268122455\n",
      "0.169484296336\n",
      "0.283439728536\n",
      "0.132235610854\n",
      "0.131448497762\n",
      "0.0992502474644\n",
      "0.0965625328795\n",
      "0.0994150537815\n",
      "0.0340233327689\n",
      "0.126203136702\n",
      "0.145263727309\n",
      "0.043217871774\n",
      "0.0647044690715\n",
      "0.00981684817964\n",
      "0.0294606441031\n",
      "0.0767809397278\n",
      "0.0450056013084\n",
      "0.0537580328976\n",
      "0.0588461407413\n",
      "0.0302315242805\n",
      "0.0169222745651\n",
      "0.89\n"
     ]
    }
   ],
   "source": [
    "filtrated = filt.filtrate(observe)"
   ]
  },
  {
   "cell_type": "code",
   "execution_count": 14,
   "metadata": {},
   "outputs": [
    {
     "data": {
      "text/plain": [
       "(200, 20000, 6)"
      ]
     },
     "execution_count": 14,
     "metadata": {},
     "output_type": "execute_result"
    }
   ],
   "source": [
    "filtrated.shape"
   ]
  },
  {
   "cell_type": "code",
   "execution_count": 15,
   "metadata": {},
   "outputs": [],
   "source": [
    "fmean = filtrated.mean(axis=1)"
   ]
  },
  {
   "cell_type": "code",
   "execution_count": 16,
   "metadata": {},
   "outputs": [
    {
     "data": {
      "image/png": "[encoded data removed]",
      "text/plain": [
       "<matplotlib.figure.Figure at 0x7fb41ac576d8>"
      ]
     },
     "metadata": {},
     "output_type": "display_data"
    },
    {
     "data": {
      "image/png": "[encoded data removed]",
      "text/plain": [
       "<matplotlib.figure.Figure at 0x7fb40d4ae1d0>"
      ]
     },
     "metadata": {},
     "output_type": "display_data"
    },
    {
     "data": {
      "image/png": "[encoded data removed]",
      "text/plain": [
       "<matplotlib.figure.Figure at 0x7fb40d432d30>"
      ]
     },
     "metadata": {},
     "output_type": "display_data"
    },
    {
     "data": {
      "image/png": "[encoded data removed]",
      "text/plain": [
       "<matplotlib.figure.Figure at 0x7fb40d3f15c0>"
      ]
     },
     "metadata": {},
     "output_type": "display_data"
    }
   ],
   "source": [
    "plt.plot(range(seqlen), fmean[:,0], c='r')\n",
    "plt.plot(range(seqlen), true[:,0], c='b')\n",
    "plt.show()\n",
    "\n",
    "plt.plot(range(seqlen), fmean[:,1], c='r')\n",
    "plt.plot(range(seqlen), true[:,1], c='b')\n",
    "plt.show()\n",
    "\n",
    "plt.plot(range(seqlen), fmean[:,2], c='r')\n",
    "plt.show()\n",
    "\n",
    "plt.plot(range(seqlen), fmean[:,3], c='r')\n",
    "plt.show()"
   ]
  },
  {
   "cell_type": "code",
   "execution_count": null,
   "metadata": {},
   "outputs": [],
   "source": []
  }
 ],
 "metadata": {
  "kernelspec": {
   "display_name": "Python 3",
   "language": "python",
   "name": "python3"
  },
  "language_info": {
   "codemirror_mode": {
    "name": "ipython",
    "version": 3
   },
   "file_extension": ".py",
   "mimetype": "text/x-python",
   "name": "python",
   "nbconvert_exporter": "python",
   "pygments_lexer": "ipython3",
   "version": "3.6.3"
  }
 },
 "nbformat": 4,
 "nbformat_minor": 2
}
